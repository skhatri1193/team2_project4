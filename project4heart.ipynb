{
 "cells": [
  {
   "cell_type": "code",
   "execution_count": 53,
   "metadata": {},
   "outputs": [],
   "source": [
    "import pandas as pd\n",
    "import numpy as np\n",
    "from sklearn.model_selection import train_test_split\n",
    "from sklearn.preprocessing import StandardScaler\n",
    "from sklearn.linear_model import LogisticRegression, LinearRegression\n",
    "from sklearn.metrics import accuracy_score, classification_report, mean_squared_error, r2_score, confusion_matrix\n",
    "import sqlite3\n",
    "import matplotlib.pyplot as plt"
   ]
  },
  {
   "cell_type": "code",
   "execution_count": 54,
   "metadata": {},
   "outputs": [],
   "source": [
    "# SQL-based Data Retrieval\n",
    "\n",
    "conn = sqlite3.connect(':memory:')  # In-memory database\n",
    "data = pd.read_csv('heart_failure_clinical_records_dataset.csv')\n",
    "data.to_sql('heart_failure', conn, index=False, if_exists='replace')\n",
    "query = \"SELECT * FROM heart_failure\"\n",
    "data = pd.read_sql(query, conn)"
   ]
  },
  {
   "cell_type": "code",
   "execution_count": 55,
   "metadata": {},
   "outputs": [
    {
     "name": "stdout",
     "output_type": "stream",
     "text": [
      "Missing values:\n",
      " age                         0\n",
      "anaemia                     0\n",
      "creatinine_phosphokinase    0\n",
      "diabetes                    0\n",
      "ejection_fraction           0\n",
      "high_blood_pressure         0\n",
      "platelets                   0\n",
      "serum_creatinine            0\n",
      "serum_sodium                0\n",
      "sex                         0\n",
      "smoking                     0\n",
      "time                        0\n",
      "DEATH_EVENT                 0\n",
      "dtype: int64\n"
     ]
    }
   ],
   "source": [
    "# Check for missing values \n",
    "missing_values = data.isnull().sum()\n",
    "print(\"Missing values:\\n\", missing_values)"
   ]
  },
  {
   "cell_type": "code",
   "execution_count": 56,
   "metadata": {},
   "outputs": [
    {
     "data": {
      "text/html": [
       "<div>\n",
       "<style scoped>\n",
       "    .dataframe tbody tr th:only-of-type {\n",
       "        vertical-align: middle;\n",
       "    }\n",
       "\n",
       "    .dataframe tbody tr th {\n",
       "        vertical-align: top;\n",
       "    }\n",
       "\n",
       "    .dataframe thead th {\n",
       "        text-align: right;\n",
       "    }\n",
       "</style>\n",
       "<table border=\"1\" class=\"dataframe\">\n",
       "  <thead>\n",
       "    <tr style=\"text-align: right;\">\n",
       "      <th></th>\n",
       "      <th>age</th>\n",
       "      <th>anaemia</th>\n",
       "      <th>creatinine_phosphokinase</th>\n",
       "      <th>diabetes</th>\n",
       "      <th>ejection_fraction</th>\n",
       "      <th>high_blood_pressure</th>\n",
       "      <th>platelets</th>\n",
       "      <th>serum_creatinine</th>\n",
       "      <th>serum_sodium</th>\n",
       "      <th>sex</th>\n",
       "      <th>smoking</th>\n",
       "      <th>time</th>\n",
       "      <th>DEATH_EVENT</th>\n",
       "    </tr>\n",
       "  </thead>\n",
       "  <tbody>\n",
       "    <tr>\n",
       "      <th>count</th>\n",
       "      <td>299.000000</td>\n",
       "      <td>299.000000</td>\n",
       "      <td>299.000000</td>\n",
       "      <td>299.000000</td>\n",
       "      <td>299.000000</td>\n",
       "      <td>299.000000</td>\n",
       "      <td>299.000000</td>\n",
       "      <td>299.00000</td>\n",
       "      <td>299.000000</td>\n",
       "      <td>299.000000</td>\n",
       "      <td>299.00000</td>\n",
       "      <td>299.000000</td>\n",
       "      <td>299.00000</td>\n",
       "    </tr>\n",
       "    <tr>\n",
       "      <th>mean</th>\n",
       "      <td>60.833893</td>\n",
       "      <td>0.431438</td>\n",
       "      <td>581.839465</td>\n",
       "      <td>0.418060</td>\n",
       "      <td>38.083612</td>\n",
       "      <td>0.351171</td>\n",
       "      <td>263358.029264</td>\n",
       "      <td>1.39388</td>\n",
       "      <td>136.625418</td>\n",
       "      <td>0.648829</td>\n",
       "      <td>0.32107</td>\n",
       "      <td>130.260870</td>\n",
       "      <td>0.32107</td>\n",
       "    </tr>\n",
       "    <tr>\n",
       "      <th>std</th>\n",
       "      <td>11.894809</td>\n",
       "      <td>0.496107</td>\n",
       "      <td>970.287881</td>\n",
       "      <td>0.494067</td>\n",
       "      <td>11.834841</td>\n",
       "      <td>0.478136</td>\n",
       "      <td>97804.236869</td>\n",
       "      <td>1.03451</td>\n",
       "      <td>4.412477</td>\n",
       "      <td>0.478136</td>\n",
       "      <td>0.46767</td>\n",
       "      <td>77.614208</td>\n",
       "      <td>0.46767</td>\n",
       "    </tr>\n",
       "    <tr>\n",
       "      <th>min</th>\n",
       "      <td>40.000000</td>\n",
       "      <td>0.000000</td>\n",
       "      <td>23.000000</td>\n",
       "      <td>0.000000</td>\n",
       "      <td>14.000000</td>\n",
       "      <td>0.000000</td>\n",
       "      <td>25100.000000</td>\n",
       "      <td>0.50000</td>\n",
       "      <td>113.000000</td>\n",
       "      <td>0.000000</td>\n",
       "      <td>0.00000</td>\n",
       "      <td>4.000000</td>\n",
       "      <td>0.00000</td>\n",
       "    </tr>\n",
       "    <tr>\n",
       "      <th>25%</th>\n",
       "      <td>51.000000</td>\n",
       "      <td>0.000000</td>\n",
       "      <td>116.500000</td>\n",
       "      <td>0.000000</td>\n",
       "      <td>30.000000</td>\n",
       "      <td>0.000000</td>\n",
       "      <td>212500.000000</td>\n",
       "      <td>0.90000</td>\n",
       "      <td>134.000000</td>\n",
       "      <td>0.000000</td>\n",
       "      <td>0.00000</td>\n",
       "      <td>73.000000</td>\n",
       "      <td>0.00000</td>\n",
       "    </tr>\n",
       "    <tr>\n",
       "      <th>50%</th>\n",
       "      <td>60.000000</td>\n",
       "      <td>0.000000</td>\n",
       "      <td>250.000000</td>\n",
       "      <td>0.000000</td>\n",
       "      <td>38.000000</td>\n",
       "      <td>0.000000</td>\n",
       "      <td>262000.000000</td>\n",
       "      <td>1.10000</td>\n",
       "      <td>137.000000</td>\n",
       "      <td>1.000000</td>\n",
       "      <td>0.00000</td>\n",
       "      <td>115.000000</td>\n",
       "      <td>0.00000</td>\n",
       "    </tr>\n",
       "    <tr>\n",
       "      <th>75%</th>\n",
       "      <td>70.000000</td>\n",
       "      <td>1.000000</td>\n",
       "      <td>582.000000</td>\n",
       "      <td>1.000000</td>\n",
       "      <td>45.000000</td>\n",
       "      <td>1.000000</td>\n",
       "      <td>303500.000000</td>\n",
       "      <td>1.40000</td>\n",
       "      <td>140.000000</td>\n",
       "      <td>1.000000</td>\n",
       "      <td>1.00000</td>\n",
       "      <td>203.000000</td>\n",
       "      <td>1.00000</td>\n",
       "    </tr>\n",
       "    <tr>\n",
       "      <th>max</th>\n",
       "      <td>95.000000</td>\n",
       "      <td>1.000000</td>\n",
       "      <td>7861.000000</td>\n",
       "      <td>1.000000</td>\n",
       "      <td>80.000000</td>\n",
       "      <td>1.000000</td>\n",
       "      <td>850000.000000</td>\n",
       "      <td>9.40000</td>\n",
       "      <td>148.000000</td>\n",
       "      <td>1.000000</td>\n",
       "      <td>1.00000</td>\n",
       "      <td>285.000000</td>\n",
       "      <td>1.00000</td>\n",
       "    </tr>\n",
       "  </tbody>\n",
       "</table>\n",
       "</div>"
      ],
      "text/plain": [
       "              age     anaemia  creatinine_phosphokinase    diabetes  \\\n",
       "count  299.000000  299.000000                299.000000  299.000000   \n",
       "mean    60.833893    0.431438                581.839465    0.418060   \n",
       "std     11.894809    0.496107                970.287881    0.494067   \n",
       "min     40.000000    0.000000                 23.000000    0.000000   \n",
       "25%     51.000000    0.000000                116.500000    0.000000   \n",
       "50%     60.000000    0.000000                250.000000    0.000000   \n",
       "75%     70.000000    1.000000                582.000000    1.000000   \n",
       "max     95.000000    1.000000               7861.000000    1.000000   \n",
       "\n",
       "       ejection_fraction  high_blood_pressure      platelets  \\\n",
       "count         299.000000           299.000000     299.000000   \n",
       "mean           38.083612             0.351171  263358.029264   \n",
       "std            11.834841             0.478136   97804.236869   \n",
       "min            14.000000             0.000000   25100.000000   \n",
       "25%            30.000000             0.000000  212500.000000   \n",
       "50%            38.000000             0.000000  262000.000000   \n",
       "75%            45.000000             1.000000  303500.000000   \n",
       "max            80.000000             1.000000  850000.000000   \n",
       "\n",
       "       serum_creatinine  serum_sodium         sex    smoking        time  \\\n",
       "count         299.00000    299.000000  299.000000  299.00000  299.000000   \n",
       "mean            1.39388    136.625418    0.648829    0.32107  130.260870   \n",
       "std             1.03451      4.412477    0.478136    0.46767   77.614208   \n",
       "min             0.50000    113.000000    0.000000    0.00000    4.000000   \n",
       "25%             0.90000    134.000000    0.000000    0.00000   73.000000   \n",
       "50%             1.10000    137.000000    1.000000    0.00000  115.000000   \n",
       "75%             1.40000    140.000000    1.000000    1.00000  203.000000   \n",
       "max             9.40000    148.000000    1.000000    1.00000  285.000000   \n",
       "\n",
       "       DEATH_EVENT  \n",
       "count    299.00000  \n",
       "mean       0.32107  \n",
       "std        0.46767  \n",
       "min        0.00000  \n",
       "25%        0.00000  \n",
       "50%        0.00000  \n",
       "75%        1.00000  \n",
       "max        1.00000  "
      ]
     },
     "execution_count": 56,
     "metadata": {},
     "output_type": "execute_result"
    }
   ],
   "source": [
    "#Check all statistics \n",
    "\n",
    "data.describe()"
   ]
  },
  {
   "cell_type": "code",
   "execution_count": 57,
   "metadata": {},
   "outputs": [],
   "source": [
    "# Scale numerical features\n",
    "\n",
    "scaler = StandardScaler()\n",
    "numerical_features = ['age', 'creatinine_phosphokinase', 'ejection_fraction',\n",
    "                      'platelets', 'serum_creatinine', 'serum_sodium', 'time']\n",
    "data[numerical_features] = scaler.fit_transform(data[numerical_features])\n"
   ]
  },
  {
   "cell_type": "code",
   "execution_count": 58,
   "metadata": {},
   "outputs": [],
   "source": [
    "# Logistic Regression Prep\n",
    "\n",
    "X = data.drop(columns=['DEATH_EVENT'])\n",
    "y = data['DEATH_EVENT']\n",
    "X_train, X_test, y_train, y_test = train_test_split(X, y, test_size=0.2, random_state=42)"
   ]
  },
  {
   "cell_type": "code",
   "execution_count": 59,
   "metadata": {},
   "outputs": [],
   "source": [
    "# Train Logistic Regression Model\n",
    "\n",
    "logistic_model = LogisticRegression(max_iter=1000, C=1.0)  \n",
    "logistic_model.fit(X_train, y_train)\n",
    "y_pred = logistic_model.predict(X_test)"
   ]
  },
  {
   "cell_type": "code",
   "execution_count": 60,
   "metadata": {},
   "outputs": [
    {
     "name": "stdout",
     "output_type": "stream",
     "text": [
      "\n",
      "Logistic Regression Performance:\n",
      "Accuracy: 0.8\n",
      "Classification Report:\n",
      "               precision    recall  f1-score   support\n",
      "\n",
      "           0       0.76      0.97      0.85        35\n",
      "           1       0.93      0.56      0.70        25\n",
      "\n",
      "    accuracy                           0.80        60\n",
      "   macro avg       0.84      0.77      0.77        60\n",
      "weighted avg       0.83      0.80      0.79        60\n",
      "\n"
     ]
    }
   ],
   "source": [
    "# Logistic Regression Evaluation\n",
    "\n",
    "accuracy = accuracy_score(y_test, y_pred)\n",
    "classification_rep = classification_report(y_test, y_pred)\n",
    "\n",
    "print(\"\\nLogistic Regression Performance:\")\n",
    "print(\"Accuracy:\", accuracy)\n",
    "print(\"Classification Report:\\n\", classification_rep)\n"
   ]
  },
  {
   "cell_type": "code",
   "execution_count": 61,
   "metadata": {},
   "outputs": [
    {
     "name": "stdout",
     "output_type": "stream",
     "text": [
      "Confusion Matrix:\n",
      " [[34  1]\n",
      " [11 14]]\n"
     ]
    }
   ],
   "source": [
    "# Confusion matrix\n",
    "\n",
    "conf_matrix = confusion_matrix(y_test, y_pred)\n",
    "print(\"Confusion Matrix:\\n\", conf_matrix)"
   ]
  },
  {
   "cell_type": "code",
   "execution_count": 62,
   "metadata": {},
   "outputs": [
    {
     "name": "stdout",
     "output_type": "stream",
     "text": [
      "Cross-validation scores: [0.85416667 0.875      0.91666667 0.77083333 0.74468085]\n",
      "Mean CV Accuracy: 0.8322695035460992\n"
     ]
    }
   ],
   "source": [
    "#Improve performance evaluation using cross-validation.\n",
    "from sklearn.model_selection import cross_val_score\n",
    "\n",
    "scores = cross_val_score(logistic_model, X_train, y_train, cv=5, scoring='accuracy')\n",
    "print(\"Cross-validation scores:\", scores)\n",
    "print(\"Mean CV Accuracy:\", scores.mean())"
   ]
  },
  {
   "cell_type": "code",
   "execution_count": 63,
   "metadata": {},
   "outputs": [
    {
     "data": {
      "image/png": "[encoded data removed]",
      "text/plain": [
       "<Figure size 480x480 with 2 Axes>"
      ]
     },
     "metadata": {},
     "output_type": "display_data"
    }
   ],
   "source": [
    "# Visualization: Confusion Matrix\n",
    "\n",
    "plt.matshow(conf_matrix, cmap=\"coolwarm\")\n",
    "plt.title(\"Confusion Matrix\")\n",
    "plt.colorbar()\n",
    "plt.xlabel(\"Predicted\")\n",
    "plt.ylabel(\"Actual\")\n",
    "plt.show()"
   ]
  },
  {
   "cell_type": "markdown",
   "metadata": {},
   "source": [
    "## Linear Regression for Survival Time"
   ]
  },
  {
   "cell_type": "code",
   "execution_count": 64,
   "metadata": {},
   "outputs": [],
   "source": [
    "# Linear Regression for Survival Time\n",
    "\n",
    "X_linear = data.drop(columns=['time', 'DEATH_EVENT'])\n",
    "y_linear = data['time']\n",
    "X_train_lin, X_test_lin, y_train_lin, y_test_lin = train_test_split(X_linear, y_linear, test_size=0.2, random_state=42)"
   ]
  },
  {
   "cell_type": "code",
   "execution_count": 65,
   "metadata": {},
   "outputs": [],
   "source": [
    "linear_model = LinearRegression()\n",
    "linear_model.fit(X_train_lin, y_train_lin)\n",
    "y_pred_lin = linear_model.predict(X_test_lin)"
   ]
  },
  {
   "cell_type": "code",
   "execution_count": 66,
   "metadata": {},
   "outputs": [
    {
     "name": "stdout",
     "output_type": "stream",
     "text": [
      "\n",
      "Linear Regression Performance:\n",
      "Mean Squared Error: 0.9324050080710351\n",
      "R-squared: -0.02042730050263253\n"
     ]
    }
   ],
   "source": [
    "# Linear Regression Evaluation\n",
    "\n",
    "mse = mean_squared_error(y_test_lin, y_pred_lin)\n",
    "r2 = r2_score(y_test_lin, y_pred_lin)\n",
    "print(\"\\nLinear Regression Performance:\")\n",
    "print(\"Mean Squared Error:\", mse)\n",
    "print(\"R-squared:\", r2)"
   ]
  },
  {
   "cell_type": "code",
   "execution_count": 67,
   "metadata": {},
   "outputs": [
    {
     "data": {
      "image/png": "[encoded data removed]",
      "text/plain": [
       "<Figure size 640x480 with 1 Axes>"
      ]
     },
     "metadata": {},
     "output_type": "display_data"
    }
   ],
   "source": [
    "# Visualization: Residual Plot\n",
    "\n",
    "residuals = y_test_lin - y_pred_lin\n",
    "plt.scatter(y_test_lin, residuals)\n",
    "plt.axhline(0, color='red', linestyle='--')\n",
    "plt.title(\"Residual Plot\")\n",
    "plt.xlabel(\"Actual Values\")\n",
    "plt.ylabel(\"Residuals\")\n",
    "plt.show()"
   ]
  },
  {
   "cell_type": "code",
   "execution_count": 68,
   "metadata": {},
   "outputs": [
    {
     "name": "stdout",
     "output_type": "stream",
     "text": [
      "Best Parameters: {'C': 1}\n"
     ]
    }
   ],
   "source": [
    "#Optimize model performance by tuning hyperparameters.\n",
    "from sklearn.model_selection import GridSearchCV\n",
    "\n",
    "param_grid = {'C': [0.01, 0.1, 1, 10, 100]}\n",
    "grid_search = GridSearchCV(LogisticRegression(), param_grid, cv=5)\n",
    "grid_search.fit(X_train, y_train)\n",
    "print(\"Best Parameters:\", grid_search.best_params_)"
   ]
  },
  {
   "cell_type": "code",
   "execution_count": 69,
   "metadata": {},
   "outputs": [
    {
     "data": {
      "image/png": "[encoded data removed]",
      "text/plain": [
       "<Figure size 640x480 with 1 Axes>"
      ]
     },
     "metadata": {},
     "output_type": "display_data"
    }
   ],
   "source": [
    "#generates an ROC (Receiver Operating Characteristic) curve and \n",
    "# calculates the AUC (Area Under the Curve) to evaluate the performance of my\n",
    "#  logistic regression model.\n",
    "from sklearn.metrics import roc_curve, auc\n",
    "\n",
    "y_prob = logistic_model.predict_proba(X_test)[:, 1]  # Probability estimates\n",
    "fpr, tpr, _ = roc_curve(y_test, y_prob)\n",
    "roc_auc = auc(fpr, tpr)\n",
    "\n",
    "plt.figure()\n",
    "plt.plot(fpr, tpr, color='blue', lw=2, label='ROC curve (area = %0.2f)' % roc_auc)\n",
    "plt.plot([0, 1], [0, 1], color='grey', linestyle='--')\n",
    "plt.xlabel('False Positive Rate')\n",
    "plt.ylabel('True Positive Rate')\n",
    "plt.title('Receiver Operating Characteristic')\n",
    "plt.legend(loc='lower right')\n",
    "plt.show()"
   ]
  },
  {
   "cell_type": "markdown",
   "metadata": {},
   "source": [
    "1. Understanding the Graph:\n",
    "X-axis (False Positive Rate - FPR):\n",
    "This represents the proportion of negatives (0s) that were incorrectly classified as positives (1s). In your case, these are the individuals who survived (DEATH_EVENT = 0) but were incorrectly predicted as having the event (death).\n",
    "The lower this value, the fewer false positives your model is generating.\n",
    "Y-axis (True Positive Rate - TPR):\n",
    "This represents the proportion of positives (1s) that were correctly classified as positives (1s). In your case, these are the individuals who actually had a death event (DEATH_EVENT = 1) and were correctly predicted as having the event.\n",
    "The higher this value, the better your model is at identifying the death event accurately.\n",
    "The blue ROC curve:\n",
    "Shows how well your model performs at various thresholds for classifying an individual as having a death event. The curve plots the trade-off between TPR and FPR for different threshold values (from 0 to 1).\n",
    "The diagonal grey line:\n",
    "Represents the performance of a random classifier. A random model, which doesn’t use any real predictive power, will have an ROC curve that follows this line.\n",
    "Any curve that lies above the grey line indicates better-than-random performance.\n",
    "2. What Does the AUC Tell You?\n",
    "The AUC (Area Under the Curve) quantifies the overall performance of the model by calculating the area under the ROC curve.\n",
    "\n",
    "AUC = 1: A perfect model with no false positives or false negatives.\n",
    "AUC = 0.5: The model performs no better than random guessing (random classifier).\n",
    "AUC between 0.5 and 1: The model has some ability to distinguish between the two classes (death vs survival). A higher AUC means the model is better at making correct predictions.\n",
    "In your case, you can see from the label label='ROC curve (area = %0.2f)' % roc_auc on the graph what the exact AUC value is.\n",
    "\n",
    "If AUC > 0.7, it indicates that your model is likely performing well in distinguishing between survivors and those who had the death event.\n",
    "If AUC is around 0.5, the model might not have much discriminative ability, and its performance is similar to random guessing.\n",
    "3. Interpreting Your Model’s ROC Curve:\n",
    "Curve above the diagonal: If your ROC curve is well above the diagonal grey line, this indicates that your logistic regression model has some predictive power. The further the curve is from the diagonal, the better the model is at distinguishing between positive and negative cases.\n",
    "Curvature: The steeper the initial curve (closer to the top-left corner), the better your model is at classifying the positives with a low false positive rate.\n",
    "Area under the curve (AUC):\n",
    "If your AUC is close to 1, this is a good indicator that the model is effectively predicting the death events. If it's closer to 0.5, it suggests that the model is either performing poorly or just randomly predicting the outcomes.\n",
    "4. What Else Can You Do?\n",
    "Threshold Tuning: The ROC curve allows you to evaluate your model’s performance at different thresholds for classification. By adjusting the threshold, you can either reduce false positives or false negatives, depending on your goal. For instance, if minimizing false negatives (predicting death events when they didn’t happen) is more important, you could adjust the threshold accordingly.\n",
    "\n",
    "Compare Multiple Models: You could compare the ROC curves and AUC scores of different classification models (e.g., Logistic Regression, Decision Trees, SVMs, etc.) to see which one performs better in your case."
   ]
  },
  {
   "cell_type": "code",
   "execution_count": 70,
   "metadata": {},
   "outputs": [
    {
     "name": "stdout",
     "output_type": "stream",
     "text": [
      "\n",
      "Correlation with Survival Time:\n",
      " time                        1.000000\n",
      "serum_sodium                0.087640\n",
      "ejection_fraction           0.041729\n",
      "diabetes                    0.033726\n",
      "platelets                   0.010514\n",
      "creatinine_phosphokinase   -0.009346\n",
      "sex                        -0.015608\n",
      "smoking                    -0.022839\n",
      "anaemia                    -0.141414\n",
      "serum_creatinine           -0.149315\n",
      "high_blood_pressure        -0.196439\n",
      "age                        -0.224068\n",
      "DEATH_EVENT                -0.526964\n",
      "Name: time, dtype: float64\n"
     ]
    }
   ],
   "source": [
    "# Feature correlation analysis\n",
    "\n",
    "correlations = data.corr()\n",
    "time_correlation = correlations[\"time\"].sort_values(ascending=False)\n",
    "print(\"\\nCorrelation with Survival Time:\\n\", time_correlation)"
   ]
  },
  {
   "cell_type": "code",
   "execution_count": 71,
   "metadata": {},
   "outputs": [
    {
     "name": "stdout",
     "output_type": "stream",
     "text": [
      "\n",
      "Correlation with Death Event:\n",
      " DEATH_EVENT                 1.000000\n",
      "serum_creatinine            0.294278\n",
      "age                         0.253729\n",
      "high_blood_pressure         0.079351\n",
      "anaemia                     0.066270\n",
      "creatinine_phosphokinase    0.062728\n",
      "diabetes                   -0.001943\n",
      "sex                        -0.004316\n",
      "smoking                    -0.012623\n",
      "platelets                  -0.049139\n",
      "serum_sodium               -0.195204\n",
      "ejection_fraction          -0.268603\n",
      "time                       -0.526964\n",
      "Name: DEATH_EVENT, dtype: float64\n"
     ]
    }
   ],
   "source": [
    "# Feature correlation analysis\n",
    "\n",
    "correlations = data.corr()\n",
    "time_correlation = correlations[\"DEATH_EVENT\"].sort_values(ascending=False)\n",
    "print(\"\\nCorrelation with Death Event:\\n\", time_correlation)"
   ]
  },
  {
   "cell_type": "code",
   "execution_count": 72,
   "metadata": {},
   "outputs": [
    {
     "name": "stderr",
     "output_type": "stream",
     "text": [
      "/opt/anaconda3/lib/python3.12/site-packages/sklearn/base.py:493: UserWarning: X does not have valid feature names, but LogisticRegression was fitted with feature names\n",
      "  warnings.warn(\n"
     ]
    },
    {
     "data": {
      "image/png": "[encoded data removed]",
      "text/plain": [
       "<Figure size 800x500 with 1 Axes>"
      ]
     },
     "metadata": {},
     "output_type": "display_data"
    }
   ],
   "source": [
    "# Train a logistic regression model using only 'age'\n",
    "X_age = X_train[['age']]  # Training set with only 'age'\n",
    "X_age_test = X_test[['age']]  # Test set with only 'age'\n",
    "model_age = LogisticRegression(max_iter=1000)\n",
    "model_age.fit(X_age, y_train)\n",
    "\n",
    "# Generate probabilities for a range of 'age'\n",
    "age_range = np.linspace(X_age_test['age'].min(), X_age_test['age'].max(), 100).reshape(-1, 1)\n",
    "probabilities_age = model_age.predict_proba(age_range)[:, 1]\n",
    "\n",
    "# Plot the refined logistic regression curve\n",
    "plt.figure(figsize=(8, 5))\n",
    "plt.scatter(X_age_test, y_test, color='black', label='Actual Data')\n",
    "plt.plot(age_range, probabilities_age, color='red', linewidth=2, label='Logistic Regression Curve')\n",
    "plt.xlabel('Age')\n",
    "plt.ylabel('Probability of Death')\n",
    "plt.title('Refined Logistic Regression Curve: Age vs. Probability of Death')\n",
    "plt.legend()\n",
    "plt.show()\n"
   ]
  }
 ],
 "metadata": {
  "kernelspec": {
   "display_name": "base",
   "language": "python",
   "name": "python3"
  },
  "language_info": {
   "codemirror_mode": {
    "name": "ipython",
    "version": 3
   },
   "file_extension": ".py",
   "mimetype": "text/x-python",
   "name": "python",
   "nbconvert_exporter": "python",
   "pygments_lexer": "ipython3",
   "version": "3.12.2"
  }
 },
 "nbformat": 4,
 "nbformat_minor": 2
}
